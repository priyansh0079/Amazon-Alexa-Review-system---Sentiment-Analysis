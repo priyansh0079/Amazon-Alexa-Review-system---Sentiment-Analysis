{
 "cells": [
  {
   "cell_type": "code",
   "execution_count": 1,
   "id": "778186af",
   "metadata": {},
   "outputs": [],
   "source": [
    "from pyspark import SparkContext\n",
    "from pyspark.sql.session import SparkSession\n",
    "from pyspark.sql.types import *\n",
    "from pyspark.sql.functions import *\n",
    "from pyspark.ml.classification import LogisticRegression\n",
    "from pyspark.ml.feature import HashingTF, Tokenizer, StopWordsRemover"
   ]
  },
  {
   "cell_type": "code",
   "execution_count": 2,
   "id": "6c77d578",
   "metadata": {},
   "outputs": [],
   "source": [
    "appName = \"Amazon alexa Review System\"\n",
    "spark = SparkSession \\\n",
    "    .builder \\\n",
    "    .appName(appName) \\\n",
    "    .config(\"spark.some.config.option\", \"some-value\") \\\n",
    "    .getOrCreate()"
   ]
  },
  {
   "cell_type": "code",
   "execution_count": 3,
   "id": "d4d4de1e",
   "metadata": {},
   "outputs": [
    {
     "name": "stdout",
     "output_type": "stream",
     "text": [
      "+-------+---------+----------------+--------------------+--------+\n",
      "| rating|     date|       variation|    verified_reviews|feedback|\n",
      "+-------+---------+----------------+--------------------+--------+\n",
      "|      5|31-Jul-18|Charcoal Fabric |       Love my Echo!|       1|\n",
      "|      5|31-Jul-18|Charcoal Fabric |           Loved it!|       1|\n",
      "|      4|31-Jul-18|  Walnut Finish |Sometimes while p...|       1|\n",
      "+-------+---------+----------------+--------------------+--------+\n",
      "only showing top 3 rows\n",
      "\n"
     ]
    }
   ],
   "source": [
    "Amazon_csv = spark.read.csv('output.csv', inferSchema=True, header=True)\n",
    "Amazon_csv.show(truncate=True, n=3)"
   ]
  },
  {
   "cell_type": "code",
   "execution_count": 4,
   "id": "cba75930",
   "metadata": {},
   "outputs": [
    {
     "name": "stdout",
     "output_type": "stream",
     "text": [
      "(3150, 5)\n"
     ]
    }
   ],
   "source": [
    "print((Amazon_csv.count(), len(Amazon_csv.columns)))"
   ]
  },
  {
   "cell_type": "code",
   "execution_count": 5,
   "id": "bf4768c2",
   "metadata": {},
   "outputs": [
    {
     "data": {
      "text/plain": [
       "[Row(feedback=' this would be a great gift. Once connected to wifi'),\n",
       " Row(feedback='0'),\n",
       " Row(feedback=' but getting the hang of it.\"'),\n",
       " Row(feedback=' it\\'s pretty creepy\"'),\n",
       " Row(feedback=' but hopefully soon Amazon allows the option to shut it off.\"'),\n",
       " Row(feedback=' gives you the wrong answer or finds information off of Wikipedia!\"'),\n",
       " Row(feedback='1'),\n",
       " Row(feedback=' I can control my lights'),\n",
       " Row(feedback='  but I\\'ll probably never use it\"\". Was I wrong!!  Echo is part of my daily routine')]"
      ]
     },
     "execution_count": 5,
     "metadata": {},
     "output_type": "execute_result"
    }
   ],
   "source": [
    "Amazon_csv.select('feedback').distinct().collect()"
   ]
  },
  {
   "cell_type": "code",
   "execution_count": 6,
   "id": "802e40fb",
   "metadata": {},
   "outputs": [
    {
     "name": "stdout",
     "output_type": "stream",
     "text": [
      "+-------+---------+--------------------+--------------------+--------+\n",
      "| rating|     date|           variation|    verified_reviews|feedback|\n",
      "+-------+---------+--------------------+--------------------+--------+\n",
      "|      5|31-Jul-18|    Charcoal Fabric |       Love my Echo!|       1|\n",
      "|      5|31-Jul-18|    Charcoal Fabric |           Loved it!|       1|\n",
      "|      4|31-Jul-18|      Walnut Finish |Sometimes while p...|       1|\n",
      "|      5|31-Jul-18|    Charcoal Fabric |I have had a lot ...|       1|\n",
      "|      5|31-Jul-18|    Charcoal Fabric |               Music|       1|\n",
      "|      5|31-Jul-18|Heather Gray Fabric |I received the ec...|       1|\n",
      "|      3|31-Jul-18|   Sandstone Fabric |Without having a ...|       1|\n",
      "|      5|31-Jul-18|    Charcoal Fabric |I think this is t...|       1|\n",
      "|      5|30-Jul-18|Heather Gray Fabric |         looks great|       1|\n",
      "|      5|30-Jul-18|Heather Gray Fabric |Love it! I’ve lis...|       1|\n",
      "+-------+---------+--------------------+--------------------+--------+\n",
      "only showing top 10 rows\n",
      "\n"
     ]
    }
   ],
   "source": [
    "Amazon_csv = Amazon_csv.filter((Amazon_csv.feedback==1) | (Amazon_csv.feedback==0))\n",
    "Amazon_csv.show(truncate=True, n=10)"
   ]
  },
  {
   "cell_type": "code",
   "execution_count": 7,
   "id": "624d98df",
   "metadata": {},
   "outputs": [
    {
     "data": {
      "text/plain": [
       "[Row(feedback='0'), Row(feedback='1')]"
      ]
     },
     "execution_count": 7,
     "metadata": {},
     "output_type": "execute_result"
    }
   ],
   "source": [
    "Amazon_csv.select('feedback').distinct().collect()"
   ]
  },
  {
   "cell_type": "code",
   "execution_count": 8,
   "id": "123daa4d",
   "metadata": {},
   "outputs": [
    {
     "name": "stdout",
     "output_type": "stream",
     "text": [
      "+--------------------+--------+\n",
      "|    verified_reviews|feedback|\n",
      "+--------------------+--------+\n",
      "|       Love my Echo!|       1|\n",
      "|           Loved it!|       1|\n",
      "|Sometimes while p...|       1|\n",
      "|I have had a lot ...|       1|\n",
      "|               Music|       1|\n",
      "|I received the ec...|       1|\n",
      "|Without having a ...|       1|\n",
      "|I think this is t...|       1|\n",
      "|         looks great|       1|\n",
      "|Love it! I’ve lis...|       1|\n",
      "+--------------------+--------+\n",
      "only showing top 10 rows\n",
      "\n"
     ]
    }
   ],
   "source": [
    "Amazon_csv_ = Amazon_csv.filter(col(\"verified_reviews\").isNotNull()).select( \"verified_reviews\", \"feedback\")\n",
    "Amazon_csv_.show(truncate=True, n=10)"
   ]
  },
  {
   "cell_type": "code",
   "execution_count": 9,
   "id": "df73b77f",
   "metadata": {},
   "outputs": [
    {
     "name": "stdout",
     "output_type": "stream",
     "text": [
      "+----------------+--------+\n",
      "|verified_reviews|feedback|\n",
      "+----------------+--------+\n",
      "|                |       1|\n",
      "|                |       1|\n",
      "|                |       1|\n",
      "|                |       0|\n",
      "|                |       0|\n",
      "|                |       0|\n",
      "|                |       1|\n",
      "|                |       1|\n",
      "|                |       1|\n",
      "|                |       1|\n",
      "|                |       0|\n",
      "|                |       0|\n",
      "|                |       0|\n",
      "|                |       0|\n",
      "|                |       1|\n",
      "|                |       1|\n",
      "|                |       1|\n",
      "|                |       1|\n",
      "|                |       1|\n",
      "|                |       1|\n",
      "+----------------+--------+\n",
      "only showing top 20 rows\n",
      "\n"
     ]
    }
   ],
   "source": [
    "Amazon_csv_.filter(Amazon_csv.verified_reviews==' ').show()"
   ]
  },
  {
   "cell_type": "code",
   "execution_count": 10,
   "id": "dc2660a2",
   "metadata": {},
   "outputs": [],
   "source": [
    "Amazon_csv_ = Amazon_csv_.filter(Amazon_csv_.verified_reviews!=' ')"
   ]
  },
  {
   "cell_type": "code",
   "execution_count": 11,
   "id": "c95f6c71",
   "metadata": {},
   "outputs": [
    {
     "name": "stdout",
     "output_type": "stream",
     "text": [
      "+--------------------+--------+\n",
      "|    verified_reviews|feedback|\n",
      "+--------------------+--------+\n",
      "|       Love my Echo!|       1|\n",
      "|           Loved it!|       1|\n",
      "|Sometimes while p...|       1|\n",
      "|I have had a lot ...|       1|\n",
      "|               Music|       1|\n",
      "|I received the ec...|       1|\n",
      "|Without having a ...|       1|\n",
      "|I think this is t...|       1|\n",
      "|         looks great|       1|\n",
      "|Love it! I’ve lis...|       1|\n",
      "+--------------------+--------+\n",
      "only showing top 10 rows\n",
      "\n"
     ]
    }
   ],
   "source": [
    "Amazon_csv_.show(truncate=True, n=10)"
   ]
  },
  {
   "cell_type": "code",
   "execution_count": 12,
   "id": "77e4b6cc",
   "metadata": {},
   "outputs": [
    {
     "name": "stdout",
     "output_type": "stream",
     "text": [
      "+----------------+--------+\n",
      "|verified_reviews|feedback|\n",
      "+----------------+--------+\n",
      "+----------------+--------+\n",
      "\n"
     ]
    }
   ],
   "source": [
    "Amazon_csv_.filter(Amazon_csv.verified_reviews==' ').show()"
   ]
  },
  {
   "cell_type": "code",
   "execution_count": 13,
   "id": "195c757e",
   "metadata": {},
   "outputs": [
    {
     "data": {
      "text/plain": [
       "[Row(feedback='0'), Row(feedback='1')]"
      ]
     },
     "execution_count": 13,
     "metadata": {},
     "output_type": "execute_result"
    }
   ],
   "source": [
    "Amazon_csv_.select('feedback').distinct().collect()"
   ]
  },
  {
   "cell_type": "code",
   "execution_count": 14,
   "id": "ac4b311c",
   "metadata": {},
   "outputs": [
    {
     "name": "stdout",
     "output_type": "stream",
     "text": [
      "Training data rows: 2156 ; Testing data rows: 905\n"
     ]
    }
   ],
   "source": [
    "dividedData = Amazon_csv_.randomSplit([0.7, 0.3]) \n",
    "trainingData = dividedData[0]\n",
    "testingData = dividedData[1] \n",
    "train_rows = trainingData.count()\n",
    "test_rows = testingData.count()\n",
    "print (\"Training data rows:\", train_rows, \"; Testing data rows:\", test_rows)"
   ]
  },
  {
   "cell_type": "code",
   "execution_count": 15,
   "id": "32a5841d",
   "metadata": {},
   "outputs": [
    {
     "name": "stdout",
     "output_type": "stream",
     "text": [
      "DataFrame[verified_reviews: string, feedback: string, verified_reviews_words: array<string>]\n"
     ]
    }
   ],
   "source": [
    "tokenizer = Tokenizer(inputCol=\"verified_reviews\", outputCol=\"verified_reviews_words\")\n",
    "tokenizedTrain = tokenizer.transform(trainingData)\n",
    "print(tokenizedTrain)"
   ]
  },
  {
   "cell_type": "code",
   "execution_count": 16,
   "id": "e470d108",
   "metadata": {},
   "outputs": [
    {
     "name": "stdout",
     "output_type": "stream",
     "text": [
      "root\n",
      " |-- verified_reviews: string (nullable = true)\n",
      " |-- feedback: string (nullable = true)\n",
      " |-- verified_reviews_words: array (nullable = true)\n",
      " |    |-- element: string (containsNull = true)\n",
      "\n"
     ]
    }
   ],
   "source": [
    "tokenizedTrain.printSchema()"
   ]
  },
  {
   "cell_type": "code",
   "execution_count": 17,
   "id": "028837de",
   "metadata": {},
   "outputs": [
    {
     "name": "stdout",
     "output_type": "stream",
     "text": [
      "+--------------------+--------+----------------------+\n",
      "|    verified_reviews|feedback|verified_reviews_words|\n",
      "+--------------------+--------+----------------------+\n",
      "|\"Handy if you don...|       1|  [\"handy, if, you,...|\n",
      "|\"Handy if you don...|       1|  [\"handy, if, you,...|\n",
      "|\"I love my echo p...|       1|  [\"i, love, my, ec...|\n",
      "|\"I loved how easy...|       1|  [\"i, loved, how, ...|\n",
      "|\"I purchased the ...|       1|  [\"i, purchased, t...|\n",
      "|\"Love it except t...|       1|  [\"love, it, excep...|\n",
      "|\"Overall love it....|       1|  [\"overall, love, ...|\n",
      "|&#34;NEVER BUY CE...|       0|  [&#34;never, buy,...|\n",
      "|2nd one... more t...|       1|  [2nd, one..., mor...|\n",
      "|   3rd Dot. Love it!|       1|  [3rd, dot., love,...|\n",
      "+--------------------+--------+----------------------+\n",
      "only showing top 10 rows\n",
      "\n"
     ]
    }
   ],
   "source": [
    "tokenizedTrain.show(truncate=True, n=10)"
   ]
  },
  {
   "cell_type": "code",
   "execution_count": 18,
   "id": "ffcdc77f",
   "metadata": {},
   "outputs": [
    {
     "data": {
      "text/plain": [
       "[Row(feedback='0'), Row(feedback='1')]"
      ]
     },
     "execution_count": 18,
     "metadata": {},
     "output_type": "execute_result"
    }
   ],
   "source": [
    "tokenizedTrain.select('feedback').distinct().collect()"
   ]
  },
  {
   "cell_type": "code",
   "execution_count": 19,
   "id": "08568e69",
   "metadata": {},
   "outputs": [
    {
     "name": "stdout",
     "output_type": "stream",
     "text": [
      "+--------------------+--------+----------------------+\n",
      "|    verified_reviews|feedback|verified_reviews_words|\n",
      "+--------------------+--------+----------------------+\n",
      "|\"Handy if you don...|       1|  [\"handy, if, you,...|\n",
      "|\"Handy if you don...|       1|  [\"handy, if, you,...|\n",
      "|\"I love my echo p...|       1|  [\"i, love, my, ec...|\n",
      "|\"I loved how easy...|       1|  [\"i, loved, how, ...|\n",
      "|\"I purchased the ...|       1|  [\"i, purchased, t...|\n",
      "|\"Love it except t...|       1|  [\"love, it, excep...|\n",
      "|\"Overall love it....|       1|  [\"overall, love, ...|\n",
      "|&#34;NEVER BUY CE...|       0|  [&#34;never, buy,...|\n",
      "|2nd one... more t...|       1|  [2nd, one..., mor...|\n",
      "|   3rd Dot. Love it!|       1|  [3rd, dot., love,...|\n",
      "|4 out of 5 stars....|       1|  [4, out, of, 5, s...|\n",
      "|4.5 out of 5 Star...|       1|  [4.5, out, of, 5,...|\n",
      "|4.5 out of 5 Star...|       1|  [4.5, out, of, 5,...|\n",
      "|A GREAT PRODUCT.....|       1|  [a, great, produc...|\n",
      "|         A great buy|       1|       [a, great, buy]|\n",
      "|      A great device|       1|    [a, great, device]|\n",
      "|      A great device|       1|    [a, great, device]|\n",
      "|A great investmen...|       1|  [a, great, invest...|\n",
      "|A great product f...|       1|  [a, great, produc...|\n",
      "|A great product f...|       1|  [a, great, produc...|\n",
      "+--------------------+--------+----------------------+\n",
      "only showing top 20 rows\n",
      "\n"
     ]
    }
   ],
   "source": [
    "tokenizedTrain.show()"
   ]
  },
  {
   "cell_type": "code",
   "execution_count": 20,
   "id": "4306780b",
   "metadata": {},
   "outputs": [
    {
     "name": "stdout",
     "output_type": "stream",
     "text": [
      "+--------------------+--------+----------------------+--------------------+\n",
      "|    verified_reviews|feedback|verified_reviews_words|     MeaningfulWords|\n",
      "+--------------------+--------+----------------------+--------------------+\n",
      "|\"Handy if you don...|       1|  [\"handy, if, you,...|[\"handy, expect, ...|\n",
      "|\"Handy if you don...|       1|  [\"handy, if, you,...|[\"handy, expect, ...|\n",
      "|\"I love my echo p...|       1|  [\"i, love, my, ec...|[\"i, love, echo, ...|\n",
      "|\"I loved how easy...|       1|  [\"i, loved, how, ...|[\"i, loved, easy,...|\n",
      "|\"I purchased the ...|       1|  [\"i, purchased, t...|[\"i, purchased, \"...|\n",
      "+--------------------+--------+----------------------+--------------------+\n",
      "only showing top 5 rows\n",
      "\n"
     ]
    }
   ],
   "source": [
    "swr = StopWordsRemover(inputCol=tokenizer.getOutputCol(), outputCol=\"MeaningfulWords\")\n",
    "SwRemovedTrain = swr.transform(tokenizedTrain)\n",
    "SwRemovedTrain.show(truncate=True, n=5)"
   ]
  },
  {
   "cell_type": "code",
   "execution_count": 21,
   "id": "a621480b",
   "metadata": {},
   "outputs": [
    {
     "name": "stdout",
     "output_type": "stream",
     "text": [
      "+--------+--------------------+--------------------+\n",
      "|feedback|     MeaningfulWords|            features|\n",
      "+--------+--------------------+--------------------+\n",
      "|       1|[\"handy, expect, ...|(262144,[30234,76...|\n",
      "|       1|[\"handy, expect, ...|(262144,[30234,76...|\n",
      "|       1|[\"i, love, echo, ...|(262144,[329,1900...|\n",
      "|       1|[\"i, loved, easy,...|(262144,[36702,40...|\n",
      "|       1|[\"i, purchased, \"...|(262144,[769,1558...|\n",
      "|       1|[\"love, except, a...|(262144,[4125,119...|\n",
      "|       1|[\"overall, love, ...|(262144,[3502,880...|\n",
      "|       0|[&#34;never, buy,...|(262144,[8970,430...|\n",
      "|       1| [2nd, one..., come]|(262144,[114763,1...|\n",
      "|       1|[3rd, dot., love,...|(262144,[83671,90...|\n",
      "+--------+--------------------+--------------------+\n",
      "only showing top 10 rows\n",
      "\n"
     ]
    }
   ],
   "source": [
    "hashTF = HashingTF(inputCol=swr.getOutputCol(), outputCol=\"features\")\n",
    "numericTrainData = hashTF.transform(SwRemovedTrain).select('feedback', 'MeaningfulWords', 'features')\n",
    "numericTrainData.show(truncate=True, n=10)"
   ]
  },
  {
   "cell_type": "code",
   "execution_count": 22,
   "id": "15f3ad97",
   "metadata": {},
   "outputs": [
    {
     "name": "stdout",
     "output_type": "stream",
     "text": [
      "root\n",
      " |-- feedback: string (nullable = true)\n",
      " |-- MeaningfulWords: array (nullable = true)\n",
      " |    |-- element: string (containsNull = true)\n",
      " |-- features: vector (nullable = true)\n",
      "\n"
     ]
    }
   ],
   "source": [
    "numericTrainData.printSchema() "
   ]
  },
  {
   "cell_type": "code",
   "execution_count": 23,
   "id": "39e6c626",
   "metadata": {},
   "outputs": [
    {
     "data": {
      "text/plain": [
       "[Row(feedback='0'), Row(feedback='1')]"
      ]
     },
     "execution_count": 23,
     "metadata": {},
     "output_type": "execute_result"
    }
   ],
   "source": [
    "numericTrainData.select('feedback').distinct().collect()"
   ]
  },
  {
   "cell_type": "code",
   "execution_count": 24,
   "id": "5f0c3d63",
   "metadata": {},
   "outputs": [],
   "source": [
    "numericTrainData = numericTrainData.withColumn(\"feedback\", \n",
    "                                  numericTrainData[\"feedback\"]\n",
    "                                  .cast('int'))"
   ]
  },
  {
   "cell_type": "code",
   "execution_count": 25,
   "id": "2447c60e",
   "metadata": {},
   "outputs": [
    {
     "name": "stdout",
     "output_type": "stream",
     "text": [
      "root\n",
      " |-- feedback: integer (nullable = true)\n",
      " |-- MeaningfulWords: array (nullable = true)\n",
      " |    |-- element: string (containsNull = true)\n",
      " |-- features: vector (nullable = true)\n",
      "\n"
     ]
    }
   ],
   "source": [
    "numericTrainData.printSchema() "
   ]
  },
  {
   "cell_type": "code",
   "execution_count": 26,
   "id": "49b74916",
   "metadata": {},
   "outputs": [
    {
     "name": "stdout",
     "output_type": "stream",
     "text": [
      "Training is done!\n"
     ]
    }
   ],
   "source": [
    "lr = LogisticRegression(labelCol=\"feedback\", featuresCol=\"features\", maxIter=10, regParam=0.01)\n",
    "model = lr.fit(numericTrainData)  \n",
    "print (\"Training is done!\")"
   ]
  },
  {
   "cell_type": "code",
   "execution_count": 27,
   "id": "e7157910",
   "metadata": {},
   "outputs": [
    {
     "name": "stdout",
     "output_type": "stream",
     "text": [
      "+--------+--------------------+--------------------+\n",
      "|feedback|     MeaningfulWords|            features|\n",
      "+--------+--------------------+--------------------+\n",
      "|       1|[\"overall, love, ...|(262144,[3502,880...|\n",
      "|       1|    [***love, it***]|(262144,[19700,20...|\n",
      "|       1|[3rd, dot., love,...|(262144,[83671,90...|\n",
      "|       1|[great, investmen...|(262144,[57422,13...|\n",
      "|       1|[great, product.,...|(262144,[21310,17...|\n",
      "|       1|[absolutely, love...|(262144,[18795,52...|\n",
      "|       1|[absolutely, love...|(262144,[3960,167...|\n",
      "|       1|[absolutely, love!!]|(262144,[102010,1...|\n",
      "|       0|[couple, days, al...|(262144,[8538,168...|\n",
      "|       1|[purchasing, echo...|(262144,[14974,16...|\n",
      "+--------+--------------------+--------------------+\n",
      "only showing top 10 rows\n",
      "\n"
     ]
    }
   ],
   "source": [
    "tokenizedTest = tokenizer.transform(testingData)\n",
    "SwRemovedTest = swr.transform(tokenizedTest)\n",
    "numericTest = hashTF.transform(SwRemovedTest).select('feedback', 'MeaningfulWords', 'features')\n",
    "numericTest.show(truncate=True, n=10)"
   ]
  },
  {
   "cell_type": "code",
   "execution_count": 28,
   "id": "f67f73eb",
   "metadata": {},
   "outputs": [
    {
     "name": "stdout",
     "output_type": "stream",
     "text": [
      "+--------------------+----------+--------+\n",
      "|     MeaningfulWords|prediction|feedback|\n",
      "+--------------------+----------+--------+\n",
      "|[\"overall, love, ...|       1.0|       1|\n",
      "|    [***love, it***]|       1.0|       1|\n",
      "|[3rd, dot., love,...|       1.0|       1|\n",
      "|[great, investmen...|       1.0|       1|\n",
      "|[great, product.,...|       1.0|       1|\n",
      "|[absolutely, love...|       1.0|       1|\n",
      "|[absolutely, love...|       1.0|       1|\n",
      "|[absolutely, love!!]|       1.0|       1|\n",
      "|[couple, days, al...|       1.0|       0|\n",
      "|[purchasing, echo...|       1.0|       1|\n",
      "+--------------------+----------+--------+\n",
      "only showing top 10 rows\n",
      "\n"
     ]
    }
   ],
   "source": [
    "prediction = model.transform(numericTest)\n",
    "predictionFinal = prediction.select(\"MeaningfulWords\", \"prediction\", \"feedback\")\n",
    "predictionFinal.show(n=10, truncate = True)"
   ]
  },
  {
   "cell_type": "code",
   "execution_count": 29,
   "id": "d9277ec8",
   "metadata": {},
   "outputs": [
    {
     "name": "stdout",
     "output_type": "stream",
     "text": [
      "correct prediction: 842 , total data: 905 , accuracy: 0.9303867403314917\n"
     ]
    }
   ],
   "source": [
    "correctPrediction = predictionFinal.filter(predictionFinal['prediction'] == predictionFinal['feedback']).count()\n",
    "totalData = predictionFinal.count()\n",
    "print(\"correct prediction:\", correctPrediction, \", total data:\", totalData, \", accuracy:\", correctPrediction/totalData)"
   ]
  },
  {
   "cell_type": "code",
   "execution_count": null,
   "id": "7235cf7e",
   "metadata": {},
   "outputs": [],
   "source": [
    "strg = input(\"Enter a comment: \")\n",
    "words = tokenize()"
   ]
  },
  {
   "cell_type": "code",
   "execution_count": null,
   "id": "fc18b19c",
   "metadata": {},
   "outputs": [],
   "source": []
  },
  {
   "cell_type": "code",
   "execution_count": null,
   "id": "8b2b430f",
   "metadata": {},
   "outputs": [],
   "source": []
  },
  {
   "cell_type": "code",
   "execution_count": null,
   "id": "f5baec86",
   "metadata": {},
   "outputs": [],
   "source": []
  },
  {
   "cell_type": "code",
   "execution_count": null,
   "id": "e6fdccaf",
   "metadata": {},
   "outputs": [],
   "source": []
  },
  {
   "cell_type": "code",
   "execution_count": null,
   "id": "4bc0b176",
   "metadata": {},
   "outputs": [],
   "source": []
  },
  {
   "cell_type": "code",
   "execution_count": null,
   "id": "5069ea0b",
   "metadata": {},
   "outputs": [],
   "source": []
  }
 ],
 "metadata": {
  "kernelspec": {
   "display_name": "Python 3 (ipykernel)",
   "language": "python",
   "name": "python3"
  },
  "language_info": {
   "codemirror_mode": {
    "name": "ipython",
    "version": 3
   },
   "file_extension": ".py",
   "mimetype": "text/x-python",
   "name": "python",
   "nbconvert_exporter": "python",
   "pygments_lexer": "ipython3",
   "version": "3.9.7"
  }
 },
 "nbformat": 4,
 "nbformat_minor": 5
}
